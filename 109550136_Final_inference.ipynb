{
 "cells": [
  {
   "cell_type": "code",
   "execution_count": null,
   "metadata": {},
   "outputs": [],
   "source": [
    "import csv\n",
    "import cv2\n",
    "import numpy as np\n",
    "import random\n",
    "import pandas as pd\n",
    "from sklearn.model_selection import train_test_split\n",
    "import lightgbm as lgb\n",
    "from sklearn.metrics import mean_squared_error\n",
    "from sklearn.model_selection import GridSearchCV\n",
    "from sklearn.preprocessing import StandardScaler\n",
    "from sklearn.experimental import enable_iterative_imputer\n",
    "from sklearn.impute import SimpleImputer, IterativeImputer, KNNImputer\n",
    "from sklearn.metrics import mean_squared_error\n",
    "from sklearn.preprocessing import LabelEncoder\n",
    "from sklearn.model_selection import GroupKFold\n",
    "from sklearn.linear_model import LogisticRegression, LinearRegression\n",
    "import os\n",
    "from sklearn.decomposition import PCA\n",
    "import math\n",
    "import joblib"
   ]
  },
  {
   "cell_type": "code",
   "execution_count": null,
   "metadata": {},
   "outputs": [],
   "source": [
    "x_test = pd.read_csv(f'/kaggle/input/tabular-playground-series-aug-2022/test.csv')\n",
    "x_test = x_test.reset_index().set_index('id').drop('index', axis=1)\n",
    "\n",
    "# create missing value flag\n",
    "missing_measurement3_list = []\n",
    "missing_measurement5_list = []\n",
    "for element in x_test['measurement_3']:\n",
    "    if np.isnan(element): #element is empty\n",
    "        missing_measurement3_list.append(0) \n",
    "    else:\n",
    "        missing_measurement3_list.append(1)\n",
    "x_test['missing_measurement3'] = missing_measurement3_list\n",
    "for element in x_test['measurement_5']:\n",
    "    if np.isnan(element): #element is empty\n",
    "        missing_measurement5_list.append(0) \n",
    "    else:\n",
    "        missing_measurement5_list.append(1)\n",
    "x_test['missing_measurement5'] = missing_measurement5_list\n",
    "\n",
    "\n",
    "# fill the missing values\n",
    "features = []\n",
    "for f in x_test.columns:\n",
    "    if f == 'loading' or (f.startswith('measurement') and f != 'measurement_17'):\n",
    "        features.append(f)\n",
    "imputer = SimpleImputer(strategy='most_frequent')\n",
    "imputer.fit_transform(x_test[features])\n",
    "x_test[features] = imputer.transform(x_test[features])\n",
    "\n",
    "# find the correlation among measurement17 and measurement3~9           \n",
    "for product in \"F\", \"G\", \"H\", \"I\":\n",
    "    lr = LinearRegression().fit(x_test.loc[(x_test['product_code'] == product) & (x_test.measurement_17.isna() == False), ['measurement_3', 'measurement_4', 'measurement_5','measurement_6', 'measurement_7', 'measurement_8', 'measurement_9']],\n",
    "                                x_test.loc[(x_test['product_code'] == product) & (x_test.measurement_17.isna() == False), ['measurement_17']])\n",
    "    x_test.loc[(x_test['product_code'] == product), ['pred_m_17']] = lr.predict(x_test.loc[(x_test['product_code'] == product), ['measurement_3', 'measurement_4', 'measurement_5','measurement_6', 'measurement_7', 'measurement_8', 'measurement_9']])\n",
    "    for index, row in x_test.iterrows():\n",
    "        if row[\"product_code\"] == product and math.isnan(row[\"measurement_17\"]):\n",
    "            x_test.loc[index, 'measurement_17'] = x_test.loc[index, 'pred_m_17']\n",
    "\n",
    "# create new features\n",
    "x_test['area'] = x_test['attribute_2'] * x_test['attribute_3']\n",
    "x_test['average'] = x_test[[f for f in x_test.columns if f.startswith('measurement') and f != 'measurement_17' and f != 'measurement_0' and f != 'measurement_1' and f != 'measurement_2']].mean(axis=1)\n",
    "\n",
    "# drop the column that is useless\n",
    "x_test = x_test.drop([f for f in x_test.columns if f.startswith('measurement') and f != 'measurement_17' and f != 'measurement_0' and f != 'measurement_1' and f != 'measurement_2'], axis=1)\n",
    "\n",
    "\n",
    "# standardize\n",
    "x_test[['loading', 'measurement_17', 'measurement_0', 'measurement_1','measurement_2',\n",
    "          'missing_measurement3', 'missing_measurement5']] = StandardScaler().fit_transform(x_test[['loading',\n",
    "          'measurement_17', 'measurement_0', 'measurement_1', 'measurement_2', 'missing_measurement3', 'missing_measurement5']])\n",
    "x_test[['area', 'average']] = StandardScaler().fit_transform(x_test[['area', 'average']])\n",
    "\n",
    "# drop the column that is useless\n",
    "x_test = x_test.drop(['product_code', 'attribute_3', 'attribute_2', 'attribute_1', 'attribute_0'], axis=1)"
   ]
  },
  {
   "cell_type": "code",
   "execution_count": null,
   "metadata": {},
   "outputs": [],
   "source": [
    "# store prediction into submission.csv\n",
    "test_data = []\n",
    "loaded_model = joblib.load('model')\n",
    "test_pred_list = loaded_model.predict_proba(x_test)[:,1]\n",
    "with open(f'/kaggle/input/tabular-playground-series-aug-2022/sample_submission.csv', newline='') as csvfile:\n",
    "    for row in csv.reader(csvfile, delimiter=','):\n",
    "        test_data.append(row)\n",
    "file = open('submission.csv', 'w', newline='')\n",
    "csv_writer = csv.writer(file)\n",
    "\n",
    "for i in range(len(test_data)):\n",
    "    if i == 0:\n",
    "        continue\n",
    "    csv_writer.writerow([int(test_data[i][0]), test_pred_list[i-1]])"
   ]
  }
 ],
 "metadata": {
  "kernelspec": {
   "display_name": "Python 3",
   "language": "python",
   "name": "python3"
  },
  "language_info": {
   "name": "python",
   "version": "3.10.7 (main, Sep 23 2022, 10:31:54)  [GCC 12.2.0 64 bit (AMD64)]"
  },
  "orig_nbformat": 4,
  "vscode": {
   "interpreter": {
    "hash": "2a8dfe095fce2b5e88c64a2c3ee084c8e0e0d70b23e7b95b1cfb538be294c5c8"
   }
  }
 },
 "nbformat": 4,
 "nbformat_minor": 2
}
