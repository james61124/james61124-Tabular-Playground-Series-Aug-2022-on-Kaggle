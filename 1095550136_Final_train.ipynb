{
 "cells": [
  {
   "cell_type": "code",
   "execution_count": null,
   "metadata": {},
   "outputs": [],
   "source": [
    "import csv\n",
    "import cv2\n",
    "import numpy as np\n",
    "import random\n",
    "import pandas as pd\n",
    "from sklearn.model_selection import train_test_split\n",
    "import lightgbm as lgb\n",
    "from sklearn.metrics import mean_squared_error\n",
    "from sklearn.model_selection import GridSearchCV\n",
    "from sklearn.preprocessing import StandardScaler\n",
    "from sklearn.experimental import enable_iterative_imputer\n",
    "from sklearn.impute import SimpleImputer, IterativeImputer, KNNImputer\n",
    "from sklearn.metrics import mean_squared_error\n",
    "from sklearn.preprocessing import LabelEncoder\n",
    "from sklearn.model_selection import GroupKFold\n",
    "from sklearn.linear_model import LogisticRegression, LinearRegression\n",
    "import os\n",
    "from sklearn.decomposition import PCA\n",
    "import math\n",
    "import joblib"
   ]
  },
  {
   "cell_type": "code",
   "execution_count": null,
   "metadata": {},
   "outputs": [],
   "source": [
    "x_train = pd.read_csv(f'/kaggle/input/tabular-playground-series-aug-2022/train.csv')\n",
    "x_train = x_train.reset_index().set_index('id').drop('index', axis=1)\n",
    "\n",
    "# create missing value flag\n",
    "missing_measurement3_list = []\n",
    "missing_measurement5_list = []\n",
    "for i in range(len(x_train['measurement_3'])):\n",
    "    if np.isnan(x_train['measurement_3'][i]): #element is empty\n",
    "        missing_measurement3_list.append(0) \n",
    "    else:\n",
    "        missing_measurement3_list.append(1)\n",
    "x_train['missing_measurement3'] = missing_measurement3_list\n",
    "for i in range(len(x_train['measurement_5'])):\n",
    "    if np.isnan(x_train['measurement_5'][i]): #element is empty\n",
    "        missing_measurement5_list.append(0) \n",
    "    else:\n",
    "        missing_measurement5_list.append(1)\n",
    "x_train['missing_measurement5'] = missing_measurement5_list\n",
    "\n",
    "\n",
    "# fill the missing values\n",
    "features = []\n",
    "for f in x_train.columns:\n",
    "    if f == 'loading' or (f.startswith('measurement') and f != 'measurement_17'):\n",
    "        features.append(f)\n",
    "imputer = SimpleImputer(strategy='most_frequent')\n",
    "imputer.fit_transform(x_train[features])\n",
    "x_train[features] = imputer.transform(x_train[features])\n",
    "\n",
    "# find the correlation among measurement17 and measurement3~9\n",
    "for product in \"A\", \"B\", \"C\", \"D\", \"E\":\n",
    "    lr = LinearRegression().fit(x_train.loc[(x_train['product_code'] == product) & (x_train.measurement_17.isna() == False), ['measurement_3', 'measurement_4', 'measurement_5','measurement_6', 'measurement_7', 'measurement_8', 'measurement_9']],\n",
    "                                x_train.loc[(x_train['product_code'] == product) & (x_train.measurement_17.isna() == False), ['measurement_17']])\n",
    "    x_train.loc[(x_train['product_code'] == product), ['pred_m_17']] = lr.predict(x_train.loc[(x_train['product_code'] == product), ['measurement_3', 'measurement_4', 'measurement_5','measurement_6', 'measurement_7', 'measurement_8', 'measurement_9']])\n",
    "    for index, row in x_train.iterrows():\n",
    "        if row[\"product_code\"] == product and math.isnan(row[\"measurement_17\"]):\n",
    "            x_train.loc[index, 'measurement_17'] = x_train.loc[index, 'pred_m_17']\n",
    "\n",
    "# split x,y\n",
    "y_train=x_train.failure\n",
    "x_train=x_train.drop(['failure'],axis=1)\n",
    "\n",
    "# create new features\n",
    "x_train['area'] = x_train['attribute_2'] * x_train['attribute_3']\n",
    "x_train['average'] = x_train[[f for f in x_train.columns if f.startswith('measurement') and f != 'measurement_17' and f != 'measurement_0' and f != 'measurement_1' and f != 'measurement_2']].mean(axis=1)\n",
    "\n",
    "# drop the column that is useless\n",
    "x_train = x_train.drop([f for f in x_train.columns if f.startswith('measurement') and f != 'measurement_17' and f != 'measurement_0' and f != 'measurement_1' and f != 'measurement_2'], axis=1)\n",
    "\n",
    "\n",
    "\n",
    "# standardize\n",
    "x_train[['loading', 'measurement_17', 'measurement_0', 'measurement_1','measurement_2',\n",
    "          'missing_measurement3', 'missing_measurement5']] = StandardScaler().fit_transform(x_train[['loading',\n",
    "          'measurement_17', 'measurement_0', 'measurement_1', 'measurement_2', 'missing_measurement3', 'missing_measurement5']])\n",
    "x_train[['area', 'average']] = StandardScaler().fit_transform(x_train[['area', 'average']])\n",
    "\n",
    "# drop the column that is useless\n",
    "x_train = x_train.drop(['product_code', 'attribute_3', 'attribute_2', 'attribute_1', 'attribute_0'], axis=1)"
   ]
  },
  {
   "cell_type": "code",
   "execution_count": null,
   "metadata": {},
   "outputs": [],
   "source": [
    "# logistic regression\n",
    "model = LogisticRegression(penalty='l1', C=0.01, solver='liblinear', random_state=1)\n",
    "model.fit(x_train, y_train)\n",
    "joblib.dump(model, 'model')"
   ]
  }
 ],
 "metadata": {
  "kernelspec": {
   "display_name": "Python 3",
   "language": "python",
   "name": "python3"
  },
  "language_info": {
   "name": "python",
   "version": "3.10.7 (main, Sep 23 2022, 10:31:54)  [GCC 12.2.0 64 bit (AMD64)]"
  },
  "orig_nbformat": 4,
  "vscode": {
   "interpreter": {
    "hash": "2a8dfe095fce2b5e88c64a2c3ee084c8e0e0d70b23e7b95b1cfb538be294c5c8"
   }
  }
 },
 "nbformat": 4,
 "nbformat_minor": 2
}
